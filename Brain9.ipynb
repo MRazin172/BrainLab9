{
  "nbformat": 4,
  "nbformat_minor": 0,
  "metadata": {
    "colab": {
      "provenance": [],
      "authorship_tag": "ABX9TyMsCioIuW3ROCVa4uVQ7DFl",
      "include_colab_link": true
    },
    "kernelspec": {
      "name": "python3",
      "display_name": "Python 3"
    },
    "language_info": {
      "name": "python"
    }
  },
  "cells": [
    {
      "cell_type": "markdown",
      "metadata": {
        "id": "view-in-github",
        "colab_type": "text"
      },
      "source": [
        "<a href=\"https://colab.research.google.com/github/MRazin172/BrainLab9/blob/main/Brain9.ipynb\" target=\"_parent\"><img src=\"https://colab.research.google.com/assets/colab-badge.svg\" alt=\"Open In Colab\"/></a>"
      ]
    },
    {
      "cell_type": "code",
      "execution_count": null,
      "metadata": {
        "id": "DeQaGoYP3FW9"
      },
      "outputs": [],
      "source": [
        "import pandas as pd\n",
        "import numpy as np\n",
        "import matplotlib.pyplot as plt\n",
        "import seaborn as sns\n",
        "from sklearn.feature_extraction.text import CountVectorizer\n",
        "from sklearn.model_selection import train_test_split\n",
        "from sklearn.naive_bayes import MultinomialNB\n",
        "from sklearn.metrics import accuracy_score, classification_report, confusion_matrix\n"
      ]
    },
    {
      "cell_type": "code",
      "source": [
        "import os\n",
        "import cv2\n",
        "\n",
        "path = '/content/archive/Training'\n",
        "classes = {'no_tumor': 0, 'pituitary_tumor': 1}\n",
        "X = []\n",
        "Y = []\n",
        "\n",
        "for cls in classes:\n",
        "    pth = os.path.join(path, cls)\n",
        "    for j in os.listdir(pth):\n",
        "        img = cv2.imread(os.path.join(pth, j), 0)\n",
        "        img = cv2.resize(img, (200, 200))\n",
        "        X.append(img)\n",
        "        Y.append(classes[cls])\n"
      ],
      "metadata": {
        "id": "XwnjBIo43aQx"
      },
      "execution_count": null,
      "outputs": []
    }
  ]
}